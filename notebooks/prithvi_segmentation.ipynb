{
 "cells": [
  {
   "cell_type": "code",
   "execution_count": 2,
   "metadata": {},
   "outputs": [],
   "source": [
    "import torch\n",
    "import numpy as np\n",
    "import pandas as pd\n",
    "import os\n",
    "\n",
    "os.chdir(\"../\")\n",
    "\n",
    "%load_ext autoreload\n",
    "%autoreload 2"
   ]
  },
  {
   "cell_type": "code",
   "execution_count": 10,
   "metadata": {},
   "outputs": [
    {
     "name": "stderr",
     "output_type": "stream",
     "text": [
      "INFO:timm.models._builder:Loading pretrained weights from Hugging Face hub (('ibm-nasa-geospatial/Prithvi-100M', 'Prithvi_EO_V1_100M.pt'))\n"
     ]
    },
    {
     "data": {
      "text/plain": [
       "PrithviSegmentation(\n",
       "  (backbone): PixelWiseModel(\n",
       "    (encoder): TimmBackboneWrapper(\n",
       "      (_timm_module): PrithviViT(\n",
       "        (patch_embed): PatchEmbed(\n",
       "          (proj): Conv3d(6, 768, kernel_size=(1, 16, 16), stride=(1, 16, 16))\n",
       "          (norm): Identity()\n",
       "        )\n",
       "        (blocks): ModuleList(\n",
       "          (0-11): 12 x Block(\n",
       "            (norm1): LayerNorm((768,), eps=1e-05, elementwise_affine=True)\n",
       "            (attn): Attention(\n",
       "              (qkv): Linear(in_features=768, out_features=2304, bias=True)\n",
       "              (q_norm): Identity()\n",
       "              (k_norm): Identity()\n",
       "              (attn_drop): Dropout(p=0.0, inplace=False)\n",
       "              (proj): Linear(in_features=768, out_features=768, bias=True)\n",
       "              (proj_drop): Dropout(p=0.0, inplace=False)\n",
       "            )\n",
       "            (ls1): Identity()\n",
       "            (drop_path1): Identity()\n",
       "            (norm2): LayerNorm((768,), eps=1e-05, elementwise_affine=True)\n",
       "            (mlp): Mlp(\n",
       "              (fc1): Linear(in_features=768, out_features=3072, bias=True)\n",
       "              (act): GELU(approximate='none')\n",
       "              (drop1): Dropout(p=0.0, inplace=False)\n",
       "              (norm): Identity()\n",
       "              (fc2): Linear(in_features=3072, out_features=768, bias=True)\n",
       "              (drop2): Dropout(p=0.0, inplace=False)\n",
       "            )\n",
       "            (ls2): Identity()\n",
       "            (drop_path2): Identity()\n",
       "          )\n",
       "        )\n",
       "        (norm): LayerNorm((768,), eps=1e-05, elementwise_affine=True)\n",
       "      )\n",
       "    )\n",
       "    (decoder): FCNDecoder(\n",
       "      (convs): Sequential(\n",
       "        (0): Sequential(\n",
       "          (0): ConvTranspose2d(2304, 256, kernel_size=(2, 2), stride=(2, 2))\n",
       "          (1): Conv2d(256, 256, kernel_size=(3, 3), stride=(1, 1), padding=(1, 1))\n",
       "          (2): Norm2d(\n",
       "            (ln): LayerNorm((256,), eps=1e-06, elementwise_affine=True)\n",
       "          )\n",
       "          (3): GELU(approximate='none')\n",
       "        )\n",
       "        (1): Sequential(\n",
       "          (0): ConvTranspose2d(256, 256, kernel_size=(2, 2), stride=(2, 2))\n",
       "          (1): Conv2d(256, 256, kernel_size=(3, 3), stride=(1, 1), padding=(1, 1))\n",
       "          (2): Norm2d(\n",
       "            (ln): LayerNorm((256,), eps=1e-06, elementwise_affine=True)\n",
       "          )\n",
       "          (3): GELU(approximate='none')\n",
       "        )\n",
       "        (2): Sequential(\n",
       "          (0): ConvTranspose2d(256, 256, kernel_size=(2, 2), stride=(2, 2))\n",
       "          (1): Conv2d(256, 256, kernel_size=(3, 3), stride=(1, 1), padding=(1, 1))\n",
       "          (2): Norm2d(\n",
       "            (ln): LayerNorm((256,), eps=1e-06, elementwise_affine=True)\n",
       "          )\n",
       "          (3): GELU(approximate='none')\n",
       "        )\n",
       "        (3): Sequential(\n",
       "          (0): ConvTranspose2d(256, 256, kernel_size=(2, 2), stride=(2, 2))\n",
       "          (1): Conv2d(256, 256, kernel_size=(3, 3), stride=(1, 1), padding=(1, 1))\n",
       "          (2): Norm2d(\n",
       "            (ln): LayerNorm((256,), eps=1e-06, elementwise_affine=True)\n",
       "          )\n",
       "          (3): GELU(approximate='none')\n",
       "        )\n",
       "      )\n",
       "    )\n",
       "    (head): SegmentationHead(\n",
       "      (head): Sequential(\n",
       "        (0): Identity()\n",
       "        (1): Identity()\n",
       "        (2): Conv2d(256, 20, kernel_size=(1, 1), stride=(1, 1))\n",
       "      )\n",
       "    )\n",
       "    (aux_heads): ModuleDict()\n",
       "  )\n",
       ")"
      ]
     },
     "execution_count": 10,
     "metadata": {},
     "output_type": "execute_result"
    }
   ],
   "source": [
    "from src.models.components.prithvi_segmentation import PrithviSegmentation\n",
    "\n",
    "model = PrithviSegmentation(\n",
    "    img_size=128,\n",
    "    in_chans=6,\n",
    "    num_frames=3,\n",
    "    num_classes=20,\n",
    "    decoder=\"FCNDecoder\"\n",
    ")\n",
    "model"
   ]
  },
  {
   "cell_type": "code",
   "execution_count": 11,
   "metadata": {},
   "outputs": [
    {
     "data": {
      "text/plain": [
       "torch.Size([2, 20, 128, 128])"
      ]
     },
     "execution_count": 11,
     "metadata": {},
     "output_type": "execute_result"
    }
   ],
   "source": [
    "test_input = torch.rand(2, 3, 6, 128, 128)\n",
    "out = model(test_input)\n",
    "out.shape"
   ]
  }
 ],
 "metadata": {
  "kernelspec": {
   "display_name": "sits-crop-recognition",
   "language": "python",
   "name": "python3"
  },
  "language_info": {
   "codemirror_mode": {
    "name": "ipython",
    "version": 3
   },
   "file_extension": ".py",
   "mimetype": "text/x-python",
   "name": "python",
   "nbconvert_exporter": "python",
   "pygments_lexer": "ipython3",
   "version": "3.11.10"
  }
 },
 "nbformat": 4,
 "nbformat_minor": 2
}
