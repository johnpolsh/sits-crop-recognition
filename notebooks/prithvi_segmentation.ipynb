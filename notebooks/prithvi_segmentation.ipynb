{
 "cells": [
  {
   "cell_type": "code",
   "execution_count": 1,
   "metadata": {},
   "outputs": [],
   "source": [
    "import torch\n",
    "import numpy as np\n",
    "import pandas as pd\n",
    "import os\n",
    "\n",
    "os.chdir(\"../\")\n",
    "\n",
    "%load_ext autoreload\n",
    "%autoreload 2"
   ]
  },
  {
   "cell_type": "code",
   "execution_count": 39,
   "metadata": {},
   "outputs": [
    {
     "data": {
      "text/plain": [
       "PrithviSegmentation(\n",
       "  (backbone): PrithviViT(\n",
       "    (patch_embed): PatchEmbed(\n",
       "      (proj): Conv3d(6, 768, kernel_size=(1, 16, 16), stride=(1, 16, 16))\n",
       "      (norm): Identity()\n",
       "    )\n",
       "    (blocks): ModuleList(\n",
       "      (0-11): 12 x Block(\n",
       "        (norm1): LayerNorm((768,), eps=1e-05, elementwise_affine=True)\n",
       "        (attn): Attention(\n",
       "          (qkv): Linear(in_features=768, out_features=2304, bias=True)\n",
       "          (q_norm): Identity()\n",
       "          (k_norm): Identity()\n",
       "          (attn_drop): Dropout(p=0.0, inplace=False)\n",
       "          (proj): Linear(in_features=768, out_features=768, bias=True)\n",
       "          (proj_drop): Dropout(p=0.0, inplace=False)\n",
       "        )\n",
       "        (ls1): Identity()\n",
       "        (drop_path1): Identity()\n",
       "        (norm2): LayerNorm((768,), eps=1e-05, elementwise_affine=True)\n",
       "        (mlp): Mlp(\n",
       "          (fc1): Linear(in_features=768, out_features=3072, bias=True)\n",
       "          (act): GELU(approximate='none')\n",
       "          (drop1): Dropout(p=0.0, inplace=False)\n",
       "          (norm): Identity()\n",
       "          (fc2): Linear(in_features=3072, out_features=768, bias=True)\n",
       "          (drop2): Dropout(p=0.0, inplace=False)\n",
       "        )\n",
       "        (ls2): Identity()\n",
       "        (drop_path2): Identity()\n",
       "      )\n",
       "    )\n",
       "    (norm): LayerNorm((768,), eps=1e-05, elementwise_affine=True)\n",
       "  )\n",
       "  (head): DeconvHeadUNetTR(\n",
       "    (deconv0): ConvTranspose3d(768, 512, kernel_size=(1, 2, 2), stride=(1, 2, 2))\n",
       "    (bottleneck): ModuleList(\n",
       "      (0): DeconvBottleneck(\n",
       "        (deconv): Sequential(\n",
       "          (0): Sequential(\n",
       "            (0): ConvTranspose3d(768, 512, kernel_size=(1, 2, 2), stride=(1, 2, 2))\n",
       "            (1): BatchNorm3d(512, eps=1e-05, momentum=0.1, affine=True, track_running_stats=True)\n",
       "            (2): ReLU(inplace=True)\n",
       "          )\n",
       "        )\n",
       "        (conv): Sequential(\n",
       "          (0): Sequential(\n",
       "            (0): Conv3d(1024, 512, kernel_size=(1, 3, 3), stride=(1, 1, 1), padding=(0, 1, 1))\n",
       "            (1): BatchNorm3d(512, eps=1e-05, momentum=0.1, affine=True, track_running_stats=True)\n",
       "            (2): ReLU(inplace=True)\n",
       "          )\n",
       "          (1): ConvTranspose3d(512, 256, kernel_size=(1, 2, 2), stride=(1, 2, 2))\n",
       "        )\n",
       "      )\n",
       "      (1): DeconvBottleneck(\n",
       "        (deconv): Sequential(\n",
       "          (0): Sequential(\n",
       "            (0): ConvTranspose3d(768, 512, kernel_size=(1, 2, 2), stride=(1, 2, 2))\n",
       "            (1): BatchNorm3d(512, eps=1e-05, momentum=0.1, affine=True, track_running_stats=True)\n",
       "            (2): ReLU(inplace=True)\n",
       "          )\n",
       "          (1): Sequential(\n",
       "            (0): ConvTranspose3d(512, 256, kernel_size=(1, 2, 2), stride=(1, 2, 2))\n",
       "            (1): BatchNorm3d(256, eps=1e-05, momentum=0.1, affine=True, track_running_stats=True)\n",
       "            (2): ReLU(inplace=True)\n",
       "          )\n",
       "        )\n",
       "        (conv): Sequential(\n",
       "          (0): Sequential(\n",
       "            (0): Conv3d(512, 256, kernel_size=(1, 3, 3), stride=(1, 1, 1), padding=(0, 1, 1))\n",
       "            (1): BatchNorm3d(256, eps=1e-05, momentum=0.1, affine=True, track_running_stats=True)\n",
       "            (2): ReLU(inplace=True)\n",
       "          )\n",
       "          (1): ConvTranspose3d(256, 128, kernel_size=(1, 2, 2), stride=(1, 2, 2))\n",
       "        )\n",
       "      )\n",
       "      (2): DeconvBottleneck(\n",
       "        (deconv): Sequential(\n",
       "          (0): Sequential(\n",
       "            (0): ConvTranspose3d(768, 512, kernel_size=(1, 2, 2), stride=(1, 2, 2))\n",
       "            (1): BatchNorm3d(512, eps=1e-05, momentum=0.1, affine=True, track_running_stats=True)\n",
       "            (2): ReLU(inplace=True)\n",
       "          )\n",
       "          (1): Sequential(\n",
       "            (0): ConvTranspose3d(512, 256, kernel_size=(1, 2, 2), stride=(1, 2, 2))\n",
       "            (1): BatchNorm3d(256, eps=1e-05, momentum=0.1, affine=True, track_running_stats=True)\n",
       "            (2): ReLU(inplace=True)\n",
       "          )\n",
       "          (2): Sequential(\n",
       "            (0): ConvTranspose3d(256, 128, kernel_size=(1, 2, 2), stride=(1, 2, 2))\n",
       "            (1): BatchNorm3d(128, eps=1e-05, momentum=0.1, affine=True, track_running_stats=True)\n",
       "            (2): ReLU(inplace=True)\n",
       "          )\n",
       "        )\n",
       "        (conv): Sequential(\n",
       "          (0): Sequential(\n",
       "            (0): Conv3d(256, 128, kernel_size=(1, 3, 3), stride=(1, 1, 1), padding=(0, 1, 1))\n",
       "            (1): BatchNorm3d(128, eps=1e-05, momentum=0.1, affine=True, track_running_stats=True)\n",
       "            (2): ReLU(inplace=True)\n",
       "          )\n",
       "          (1): ConvTranspose3d(128, 20, kernel_size=(1, 2, 2), stride=(1, 2, 2))\n",
       "        )\n",
       "      )\n",
       "    )\n",
       "    (conv_reduce): Conv3d(20, 20, kernel_size=(3, 1, 1), stride=(1, 1, 1))\n",
       "  )\n",
       ")"
      ]
     },
     "execution_count": 39,
     "metadata": {},
     "output_type": "execute_result"
    }
   ],
   "source": [
    "from src.models.components.prithvi_segmentation import PrithviSegmentation\n",
    "\n",
    "model = PrithviSegmentation(\n",
    "    img_size=128,\n",
    "    in_chans=6,\n",
    "    num_frames=3,\n",
    "    num_classes=20,\n",
    "    decoder=\"UNeTRDecoder\"\n",
    ")\n",
    "model"
   ]
  },
  {
   "cell_type": "code",
   "execution_count": 40,
   "metadata": {},
   "outputs": [
    {
     "data": {
      "text/plain": [
       "torch.Size([2, 20, 128, 128])"
      ]
     },
     "execution_count": 40,
     "metadata": {},
     "output_type": "execute_result"
    }
   ],
   "source": [
    "test_input = torch.rand(2, 6, 3, 128, 128)\n",
    "out = model(test_input)\n",
    "out.shape"
   ]
  }
 ],
 "metadata": {
  "kernelspec": {
   "display_name": "sits-crop-recognition",
   "language": "python",
   "name": "python3"
  },
  "language_info": {
   "codemirror_mode": {
    "name": "ipython",
    "version": 3
   },
   "file_extension": ".py",
   "mimetype": "text/x-python",
   "name": "python",
   "nbconvert_exporter": "python",
   "pygments_lexer": "ipython3",
   "version": "3.10.16"
  }
 },
 "nbformat": 4,
 "nbformat_minor": 2
}
