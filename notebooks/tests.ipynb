{
 "cells": [
  {
   "cell_type": "code",
   "execution_count": 1,
   "metadata": {},
   "outputs": [],
   "source": [
    "import torch\n",
    "import numpy as np\n",
    "import pandas as pd\n",
    "import os\n",
    "\n",
    "os.chdir(\"../\")\n",
    "\n",
    "%load_ext autoreload\n",
    "%autoreload 2"
   ]
  },
  {
   "cell_type": "code",
   "execution_count": 11,
   "metadata": {},
   "outputs": [
    {
     "name": "stderr",
     "output_type": "stream",
     "text": [
      "[rank: 0] Unused arguments: {'d'}\n"
     ]
    },
    {
     "data": {
      "text/plain": [
       "6"
      ]
     },
     "execution_count": 11,
     "metadata": {},
     "output_type": "execute_result"
    }
   ],
   "source": [
    "from src.utils.scripting import loose_bind_kwargs\n",
    "\n",
    "@loose_bind_kwargs(True)\n",
    "def fn(a, b, c):\n",
    "    return a + b + c\n",
    "\n",
    "kwarg = {\n",
    "    \"a\": 1,\n",
    "    \"b\": 2,\n",
    "    \"c\": 3,\n",
    "    \"d\": 4,\n",
    "}\n",
    "fn(**kwarg)\n"
   ]
  },
  {
   "cell_type": "code",
   "execution_count": 12,
   "metadata": {},
   "outputs": [
    {
     "name": "stderr",
     "output_type": "stream",
     "text": [
      "INFO:timm.models._builder:Loading pretrained weights from Hugging Face hub (('ibm-nasa-geospatial/Prithvi-100M', 'Prithvi_EO_V1_100M.pt'))\n",
      "c:\\Users\\EMC\\anaconda3\\envs\\sits-crop-recognition\\Lib\\site-packages\\timm\\models\\_hub.py:190: FutureWarning: You are using `torch.load` with `weights_only=False` (the current default value), which uses the default pickle module implicitly. It is possible to construct malicious pickle data which will execute arbitrary code during unpickling (See https://github.com/pytorch/pytorch/blob/main/SECURITY.md#untrusted-models for more details). In a future release, the default value for `weights_only` will be flipped to `True`. This limits the functions that could be executed during unpickling. Arbitrary objects will no longer be allowed to be loaded via this mode unless they are explicitly allowlisted by the user via `torch.serialization.add_safe_globals`. We recommend you start setting `weights_only=True` for any use case where you don't have full control of the loaded file. Please open an issue on GitHub for any issues related to this experimental feature.\n",
      "  return torch.load(cached_file, map_location='cpu')\n"
     ]
    },
    {
     "data": {
      "text/plain": [
       "PixelWiseModel(\n",
       "  (encoder): TimmBackboneWrapper(\n",
       "    (_timm_module): PrithviViT(\n",
       "      (patch_embed): PatchEmbed(\n",
       "        (proj): Conv3d(6, 768, kernel_size=(1, 16, 16), stride=(1, 16, 16))\n",
       "        (norm): Identity()\n",
       "      )\n",
       "      (blocks): ModuleList(\n",
       "        (0-11): 12 x Block(\n",
       "          (norm1): LayerNorm((768,), eps=1e-05, elementwise_affine=True)\n",
       "          (attn): Attention(\n",
       "            (qkv): Linear(in_features=768, out_features=2304, bias=True)\n",
       "            (q_norm): Identity()\n",
       "            (k_norm): Identity()\n",
       "            (attn_drop): Dropout(p=0.0, inplace=False)\n",
       "            (proj): Linear(in_features=768, out_features=768, bias=True)\n",
       "            (proj_drop): Dropout(p=0.0, inplace=False)\n",
       "          )\n",
       "          (ls1): Identity()\n",
       "          (drop_path1): Identity()\n",
       "          (norm2): LayerNorm((768,), eps=1e-05, elementwise_affine=True)\n",
       "          (mlp): Mlp(\n",
       "            (fc1): Linear(in_features=768, out_features=3072, bias=True)\n",
       "            (act): GELU(approximate='none')\n",
       "            (drop1): Dropout(p=0.0, inplace=False)\n",
       "            (norm): Identity()\n",
       "            (fc2): Linear(in_features=3072, out_features=768, bias=True)\n",
       "            (drop2): Dropout(p=0.0, inplace=False)\n",
       "          )\n",
       "          (ls2): Identity()\n",
       "          (drop_path2): Identity()\n",
       "        )\n",
       "      )\n",
       "      (norm): LayerNorm((768,), eps=1e-05, elementwise_affine=True)\n",
       "    )\n",
       "  )\n",
       "  (decoder): FCNDecoder(\n",
       "    (convs): Sequential(\n",
       "      (0): Sequential(\n",
       "        (0): ConvTranspose2d(2304, 256, kernel_size=(2, 2), stride=(2, 2))\n",
       "        (1): Conv2d(256, 256, kernel_size=(3, 3), stride=(1, 1), padding=(1, 1))\n",
       "        (2): Norm2d(\n",
       "          (ln): LayerNorm((256,), eps=1e-06, elementwise_affine=True)\n",
       "        )\n",
       "        (3): GELU(approximate='none')\n",
       "      )\n",
       "      (1): Sequential(\n",
       "        (0): ConvTranspose2d(256, 256, kernel_size=(2, 2), stride=(2, 2))\n",
       "        (1): Conv2d(256, 256, kernel_size=(3, 3), stride=(1, 1), padding=(1, 1))\n",
       "        (2): Norm2d(\n",
       "          (ln): LayerNorm((256,), eps=1e-06, elementwise_affine=True)\n",
       "        )\n",
       "        (3): GELU(approximate='none')\n",
       "      )\n",
       "      (2): Sequential(\n",
       "        (0): ConvTranspose2d(256, 256, kernel_size=(2, 2), stride=(2, 2))\n",
       "        (1): Conv2d(256, 256, kernel_size=(3, 3), stride=(1, 1), padding=(1, 1))\n",
       "        (2): Norm2d(\n",
       "          (ln): LayerNorm((256,), eps=1e-06, elementwise_affine=True)\n",
       "        )\n",
       "        (3): GELU(approximate='none')\n",
       "      )\n",
       "      (3): Sequential(\n",
       "        (0): ConvTranspose2d(256, 256, kernel_size=(2, 2), stride=(2, 2))\n",
       "        (1): Conv2d(256, 256, kernel_size=(3, 3), stride=(1, 1), padding=(1, 1))\n",
       "        (2): Norm2d(\n",
       "          (ln): LayerNorm((256,), eps=1e-06, elementwise_affine=True)\n",
       "        )\n",
       "        (3): GELU(approximate='none')\n",
       "      )\n",
       "    )\n",
       "  )\n",
       "  (head): SegmentationHead(\n",
       "    (head): Sequential(\n",
       "      (0): Identity()\n",
       "      (1): Identity()\n",
       "      (2): Conv2d(256, 20, kernel_size=(1, 1), stride=(1, 1))\n",
       "    )\n",
       "  )\n",
       "  (aux_heads): ModuleDict()\n",
       ")"
      ]
     },
     "execution_count": 12,
     "metadata": {},
     "output_type": "execute_result"
    }
   ],
   "source": [
    "from terratorch.models.encoder_decoder_factory import EncoderDecoderFactory\n",
    "from terratorch.datasets import HLSBands\n",
    "from terratorch.models.prithvi_model_factory import PrithviModelFactory\n",
    "\n",
    "factory = EncoderDecoderFactory()\n",
    "model = factory.build_model(\n",
    "    task=\"segmentation\",\n",
    "    backbone=\"prithvi_vit_100\",\n",
    "    decoder=\"FCNDecoder\",\n",
    "    num_classes=20,\n",
    "    backbone_in_chans=\"backbone_in_chans\",\n",
    "    backbone_pretrained=True,\n",
    "    backbone_num_frames=3,\n",
    "    backbone_bands=[\n",
    "        HLSBands.BLUE,\n",
    "        HLSBands.GREEN,\n",
    "        HLSBands.RED,\n",
    "        HLSBands.NIR_NARROW,\n",
    "        HLSBands.SWIR_1,\n",
    "        HLSBands.SWIR_2\n",
    "    ],\n",
    "    necks=None\n",
    ")\n",
    "model"
   ]
  }
 ],
 "metadata": {
  "kernelspec": {
   "display_name": "sits-crop-recognition",
   "language": "python",
   "name": "python3"
  },
  "language_info": {
   "codemirror_mode": {
    "name": "ipython",
    "version": 3
   },
   "file_extension": ".py",
   "mimetype": "text/x-python",
   "name": "python",
   "nbconvert_exporter": "python",
   "pygments_lexer": "ipython3",
   "version": "3.11.10"
  }
 },
 "nbformat": 4,
 "nbformat_minor": 2
}
